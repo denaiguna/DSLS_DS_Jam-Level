{
  "nbformat": 4,
  "nbformat_minor": 0,
  "metadata": {
    "colab": {
      "provenance": []
    },
    "kernelspec": {
      "name": "python3",
      "display_name": "Python 3"
    },
    "language_info": {
      "name": "python"
    }
  },
  "cells": [
    {
      "cell_type": "markdown",
      "source": [
        "**Research Problem from Renstra Dinas Pekerjaan Umum dan Penataan Ruang Kota Bogor Tahun 2020-2024** \n",
        "\n",
        "\n",
        "Kepadatan Lalu Lintas Jalan; Padatnya lalu lintas jalan menimbulkan penumpukan kendaraan terutama pada ruas-ruas jalan utama yang diakibatkan pembangunan sistem transportasi belum terimplementasi optimal."
      ],
      "metadata": {
        "id": "wTH8Qb42oucF"
      }
    },
    {
      "cell_type": "markdown",
      "source": [
        "**Research Question**:\n",
        "Bagaimana prediksi kondisi kemacetan jalan akibat dari padatnya lalu lintas ?"
      ],
      "metadata": {
        "id": "rKPEzJIbpAFi"
      }
    },
    {
      "cell_type": "markdown",
      "source": [
        "**Data used** : aggregate_median_irregularities_Kota Bogor"
      ],
      "metadata": {
        "id": "dpjGOuSBpNgs"
      }
    },
    {
      "cell_type": "markdown",
      "source": [
        "# Data Understanding"
      ],
      "metadata": {
        "id": "3Osj6P6RoO1V"
      }
    },
    {
      "cell_type": "code",
      "execution_count": 1,
      "metadata": {
        "id": "cqaApphVwiq8"
      },
      "outputs": [],
      "source": [
        "import pandas as pd\n",
        "import numpy as np\n",
        "import seaborn as sns\n",
        "import matplotlib.pyplot as plt"
      ]
    },
    {
      "cell_type": "code",
      "source": [
        "df2 = pd.read_csv(\"aggregate_median_irregularities_Kota Bogor.csv\", index_col=0)\n"
      ],
      "metadata": {
        "id": "uGspiJSqeFh5"
      },
      "execution_count": 4,
      "outputs": []
    },
    {
      "cell_type": "markdown",
      "source": [],
      "metadata": {
        "id": "-jO7LvOyoOyq"
      }
    },
    {
      "cell_type": "code",
      "source": [
        "df2.head()"
      ],
      "metadata": {
        "colab": {
          "base_uri": "https://localhost:8080/",
          "height": 562
        },
        "id": "gBJWXj5KeLda",
        "outputId": "31d466a2-5992-4539-8d04-7dacfc26b266"
      },
      "execution_count": 5,
      "outputs": [
        {
          "output_type": "execute_result",
          "data": {
            "text/plain": [
              "                         kemendagri_kabupaten_kode kemendagri_kabupaten_nama  \\\n",
              "time                                                                           \n",
              "2022-07-06 09:00:00.000                      32.71                KOTA BOGOR   \n",
              "2022-07-06 09:00:00.000                      32.71                KOTA BOGOR   \n",
              "2022-07-06 10:00:00.000                      32.71                KOTA BOGOR   \n",
              "2022-07-06 10:00:00.000                      32.71                KOTA BOGOR   \n",
              "2022-07-06 10:00:00.000                      32.71                KOTA BOGOR   \n",
              "\n",
              "                                                 street  jam_level  \\\n",
              "time                                                                 \n",
              "2022-07-06 09:00:00.000           N9 Jalan Raya Dramaga          4   \n",
              "2022-07-06 09:00:00.000           N9 Jalan Raya Dramaga          3   \n",
              "2022-07-06 10:00:00.000                    Kapten Yusuf          3   \n",
              "2022-07-06 10:00:00.000  N9 Underpass KH Soleh Iskandar          4   \n",
              "2022-07-06 10:00:00.000           N9 Jalan Raya Dramaga          4   \n",
              "\n",
              "                         median_length  median_delay_seconds  \\\n",
              "time                                                           \n",
              "2022-07-06 09:00:00.000         1878.0                 689.0   \n",
              "2022-07-06 09:00:00.000         1226.0                 339.5   \n",
              "2022-07-06 10:00:00.000         1399.0                 517.0   \n",
              "2022-07-06 10:00:00.000          627.0                 525.0   \n",
              "2022-07-06 10:00:00.000         1420.0                 623.0   \n",
              "\n",
              "                         median_regular_speed  total_records  cause_type  \\\n",
              "time                                                                       \n",
              "2022-07-06 09:00:00.000             13.775000             18         NaN   \n",
              "2022-07-06 09:00:00.000             14.400000              6         NaN   \n",
              "2022-07-06 10:00:00.000             18.150000              2         NaN   \n",
              "2022-07-06 10:00:00.000             23.900002             20         NaN   \n",
              "2022-07-06 10:00:00.000             11.710000             19         NaN   \n",
              "\n",
              "                         median_seconds  median_speed        date  \\\n",
              "time                                                                \n",
              "2022-07-06 09:00:00.000           856.5         7.340  2022-07-06   \n",
              "2022-07-06 09:00:00.000           447.0         9.995  2022-07-06   \n",
              "2022-07-06 10:00:00.000           707.0         7.110  2022-07-06   \n",
              "2022-07-06 10:00:00.000           573.5         3.930  2022-07-06   \n",
              "2022-07-06 10:00:00.000           734.0         6.560  2022-07-06   \n",
              "\n",
              "                         median_jam_level       id  \\\n",
              "time                                                 \n",
              "2022-07-06 09:00:00.000               4.0  1492793   \n",
              "2022-07-06 09:00:00.000               3.0  1492792   \n",
              "2022-07-06 10:00:00.000               3.0  1492794   \n",
              "2022-07-06 10:00:00.000               4.0  1492797   \n",
              "2022-07-06 10:00:00.000               4.0  1492796   \n",
              "\n",
              "                                                                  geometry  \n",
              "time                                                                        \n",
              "2022-07-06 09:00:00.000  MULTILINESTRING ((106.738284 -6.568848, 106.73...  \n",
              "2022-07-06 09:00:00.000  MULTILINESTRING ((106.73546 -6.565547, 106.735...  \n",
              "2022-07-06 10:00:00.000  LINESTRING (106.785538 -6.61574, 106.785797 -6...  \n",
              "2022-07-06 10:00:00.000  MULTILINESTRING ((106.800519 -6.562005, 106.80...  \n",
              "2022-07-06 10:00:00.000  MULTILINESTRING ((106.739572 -6.570715, 106.73...  "
            ],
            "text/html": [
              "\n",
              "  <div id=\"df-6073186c-325e-4b23-bc9b-badf5c2916c0\">\n",
              "    <div class=\"colab-df-container\">\n",
              "      <div>\n",
              "<style scoped>\n",
              "    .dataframe tbody tr th:only-of-type {\n",
              "        vertical-align: middle;\n",
              "    }\n",
              "\n",
              "    .dataframe tbody tr th {\n",
              "        vertical-align: top;\n",
              "    }\n",
              "\n",
              "    .dataframe thead th {\n",
              "        text-align: right;\n",
              "    }\n",
              "</style>\n",
              "<table border=\"1\" class=\"dataframe\">\n",
              "  <thead>\n",
              "    <tr style=\"text-align: right;\">\n",
              "      <th></th>\n",
              "      <th>kemendagri_kabupaten_kode</th>\n",
              "      <th>kemendagri_kabupaten_nama</th>\n",
              "      <th>street</th>\n",
              "      <th>jam_level</th>\n",
              "      <th>median_length</th>\n",
              "      <th>median_delay_seconds</th>\n",
              "      <th>median_regular_speed</th>\n",
              "      <th>total_records</th>\n",
              "      <th>cause_type</th>\n",
              "      <th>median_seconds</th>\n",
              "      <th>median_speed</th>\n",
              "      <th>date</th>\n",
              "      <th>median_jam_level</th>\n",
              "      <th>id</th>\n",
              "      <th>geometry</th>\n",
              "    </tr>\n",
              "    <tr>\n",
              "      <th>time</th>\n",
              "      <th></th>\n",
              "      <th></th>\n",
              "      <th></th>\n",
              "      <th></th>\n",
              "      <th></th>\n",
              "      <th></th>\n",
              "      <th></th>\n",
              "      <th></th>\n",
              "      <th></th>\n",
              "      <th></th>\n",
              "      <th></th>\n",
              "      <th></th>\n",
              "      <th></th>\n",
              "      <th></th>\n",
              "      <th></th>\n",
              "    </tr>\n",
              "  </thead>\n",
              "  <tbody>\n",
              "    <tr>\n",
              "      <th>2022-07-06 09:00:00.000</th>\n",
              "      <td>32.71</td>\n",
              "      <td>KOTA BOGOR</td>\n",
              "      <td>N9 Jalan Raya Dramaga</td>\n",
              "      <td>4</td>\n",
              "      <td>1878.0</td>\n",
              "      <td>689.0</td>\n",
              "      <td>13.775000</td>\n",
              "      <td>18</td>\n",
              "      <td>NaN</td>\n",
              "      <td>856.5</td>\n",
              "      <td>7.340</td>\n",
              "      <td>2022-07-06</td>\n",
              "      <td>4.0</td>\n",
              "      <td>1492793</td>\n",
              "      <td>MULTILINESTRING ((106.738284 -6.568848, 106.73...</td>\n",
              "    </tr>\n",
              "    <tr>\n",
              "      <th>2022-07-06 09:00:00.000</th>\n",
              "      <td>32.71</td>\n",
              "      <td>KOTA BOGOR</td>\n",
              "      <td>N9 Jalan Raya Dramaga</td>\n",
              "      <td>3</td>\n",
              "      <td>1226.0</td>\n",
              "      <td>339.5</td>\n",
              "      <td>14.400000</td>\n",
              "      <td>6</td>\n",
              "      <td>NaN</td>\n",
              "      <td>447.0</td>\n",
              "      <td>9.995</td>\n",
              "      <td>2022-07-06</td>\n",
              "      <td>3.0</td>\n",
              "      <td>1492792</td>\n",
              "      <td>MULTILINESTRING ((106.73546 -6.565547, 106.735...</td>\n",
              "    </tr>\n",
              "    <tr>\n",
              "      <th>2022-07-06 10:00:00.000</th>\n",
              "      <td>32.71</td>\n",
              "      <td>KOTA BOGOR</td>\n",
              "      <td>Kapten Yusuf</td>\n",
              "      <td>3</td>\n",
              "      <td>1399.0</td>\n",
              "      <td>517.0</td>\n",
              "      <td>18.150000</td>\n",
              "      <td>2</td>\n",
              "      <td>NaN</td>\n",
              "      <td>707.0</td>\n",
              "      <td>7.110</td>\n",
              "      <td>2022-07-06</td>\n",
              "      <td>3.0</td>\n",
              "      <td>1492794</td>\n",
              "      <td>LINESTRING (106.785538 -6.61574, 106.785797 -6...</td>\n",
              "    </tr>\n",
              "    <tr>\n",
              "      <th>2022-07-06 10:00:00.000</th>\n",
              "      <td>32.71</td>\n",
              "      <td>KOTA BOGOR</td>\n",
              "      <td>N9 Underpass KH Soleh Iskandar</td>\n",
              "      <td>4</td>\n",
              "      <td>627.0</td>\n",
              "      <td>525.0</td>\n",
              "      <td>23.900002</td>\n",
              "      <td>20</td>\n",
              "      <td>NaN</td>\n",
              "      <td>573.5</td>\n",
              "      <td>3.930</td>\n",
              "      <td>2022-07-06</td>\n",
              "      <td>4.0</td>\n",
              "      <td>1492797</td>\n",
              "      <td>MULTILINESTRING ((106.800519 -6.562005, 106.80...</td>\n",
              "    </tr>\n",
              "    <tr>\n",
              "      <th>2022-07-06 10:00:00.000</th>\n",
              "      <td>32.71</td>\n",
              "      <td>KOTA BOGOR</td>\n",
              "      <td>N9 Jalan Raya Dramaga</td>\n",
              "      <td>4</td>\n",
              "      <td>1420.0</td>\n",
              "      <td>623.0</td>\n",
              "      <td>11.710000</td>\n",
              "      <td>19</td>\n",
              "      <td>NaN</td>\n",
              "      <td>734.0</td>\n",
              "      <td>6.560</td>\n",
              "      <td>2022-07-06</td>\n",
              "      <td>4.0</td>\n",
              "      <td>1492796</td>\n",
              "      <td>MULTILINESTRING ((106.739572 -6.570715, 106.73...</td>\n",
              "    </tr>\n",
              "  </tbody>\n",
              "</table>\n",
              "</div>\n",
              "      <button class=\"colab-df-convert\" onclick=\"convertToInteractive('df-6073186c-325e-4b23-bc9b-badf5c2916c0')\"\n",
              "              title=\"Convert this dataframe to an interactive table.\"\n",
              "              style=\"display:none;\">\n",
              "        \n",
              "  <svg xmlns=\"http://www.w3.org/2000/svg\" height=\"24px\"viewBox=\"0 0 24 24\"\n",
              "       width=\"24px\">\n",
              "    <path d=\"M0 0h24v24H0V0z\" fill=\"none\"/>\n",
              "    <path d=\"M18.56 5.44l.94 2.06.94-2.06 2.06-.94-2.06-.94-.94-2.06-.94 2.06-2.06.94zm-11 1L8.5 8.5l.94-2.06 2.06-.94-2.06-.94L8.5 2.5l-.94 2.06-2.06.94zm10 10l.94 2.06.94-2.06 2.06-.94-2.06-.94-.94-2.06-.94 2.06-2.06.94z\"/><path d=\"M17.41 7.96l-1.37-1.37c-.4-.4-.92-.59-1.43-.59-.52 0-1.04.2-1.43.59L10.3 9.45l-7.72 7.72c-.78.78-.78 2.05 0 2.83L4 21.41c.39.39.9.59 1.41.59.51 0 1.02-.2 1.41-.59l7.78-7.78 2.81-2.81c.8-.78.8-2.07 0-2.86zM5.41 20L4 18.59l7.72-7.72 1.47 1.35L5.41 20z\"/>\n",
              "  </svg>\n",
              "      </button>\n",
              "      \n",
              "  <style>\n",
              "    .colab-df-container {\n",
              "      display:flex;\n",
              "      flex-wrap:wrap;\n",
              "      gap: 12px;\n",
              "    }\n",
              "\n",
              "    .colab-df-convert {\n",
              "      background-color: #E8F0FE;\n",
              "      border: none;\n",
              "      border-radius: 50%;\n",
              "      cursor: pointer;\n",
              "      display: none;\n",
              "      fill: #1967D2;\n",
              "      height: 32px;\n",
              "      padding: 0 0 0 0;\n",
              "      width: 32px;\n",
              "    }\n",
              "\n",
              "    .colab-df-convert:hover {\n",
              "      background-color: #E2EBFA;\n",
              "      box-shadow: 0px 1px 2px rgba(60, 64, 67, 0.3), 0px 1px 3px 1px rgba(60, 64, 67, 0.15);\n",
              "      fill: #174EA6;\n",
              "    }\n",
              "\n",
              "    [theme=dark] .colab-df-convert {\n",
              "      background-color: #3B4455;\n",
              "      fill: #D2E3FC;\n",
              "    }\n",
              "\n",
              "    [theme=dark] .colab-df-convert:hover {\n",
              "      background-color: #434B5C;\n",
              "      box-shadow: 0px 1px 3px 1px rgba(0, 0, 0, 0.15);\n",
              "      filter: drop-shadow(0px 1px 2px rgba(0, 0, 0, 0.3));\n",
              "      fill: #FFFFFF;\n",
              "    }\n",
              "  </style>\n",
              "\n",
              "      <script>\n",
              "        const buttonEl =\n",
              "          document.querySelector('#df-6073186c-325e-4b23-bc9b-badf5c2916c0 button.colab-df-convert');\n",
              "        buttonEl.style.display =\n",
              "          google.colab.kernel.accessAllowed ? 'block' : 'none';\n",
              "\n",
              "        async function convertToInteractive(key) {\n",
              "          const element = document.querySelector('#df-6073186c-325e-4b23-bc9b-badf5c2916c0');\n",
              "          const dataTable =\n",
              "            await google.colab.kernel.invokeFunction('convertToInteractive',\n",
              "                                                     [key], {});\n",
              "          if (!dataTable) return;\n",
              "\n",
              "          const docLinkHtml = 'Like what you see? Visit the ' +\n",
              "            '<a target=\"_blank\" href=https://colab.research.google.com/notebooks/data_table.ipynb>data table notebook</a>'\n",
              "            + ' to learn more about interactive tables.';\n",
              "          element.innerHTML = '';\n",
              "          dataTable['output_type'] = 'display_data';\n",
              "          await google.colab.output.renderOutput(dataTable, element);\n",
              "          const docLink = document.createElement('div');\n",
              "          docLink.innerHTML = docLinkHtml;\n",
              "          element.appendChild(docLink);\n",
              "        }\n",
              "      </script>\n",
              "    </div>\n",
              "  </div>\n",
              "  "
            ]
          },
          "metadata": {},
          "execution_count": 5
        }
      ]
    },
    {
      "cell_type": "markdown",
      "source": [
        "Check Street Data"
      ],
      "metadata": {
        "id": "fOhJT_XfGh0G"
      }
    },
    {
      "cell_type": "code",
      "source": [
        "df2['street'].unique()"
      ],
      "metadata": {
        "colab": {
          "base_uri": "https://localhost:8080/"
        },
        "id": "y7Rz6qUBkACh",
        "outputId": "0ef4ea2a-21d9-4069-b2c3-fa1ce53989be"
      },
      "execution_count": 6,
      "outputs": [
        {
          "output_type": "execute_result",
          "data": {
            "text/plain": [
              "array(['N9 Jalan Raya Dramaga', 'Kapten Yusuf',\n",
              "       'N9 Underpass KH Soleh Iskandar', 'N9 Jalan Raya Ciawi',\n",
              "       'Exit Baranangsiang', 'Binamarga', 'N9 Jalan Raya Pajajaran',\n",
              "       'Jenderal Ahmad Yani', 'Pandawa Raya', 'Paledang',\n",
              "       'Kapten Muslihat', 'N9 Ir Haji Juanda', 'N8 Jalan Raya Bogor',\n",
              "       'Tol Lingkar Luar Bogor', 'Jalan R3 Katulampa',\n",
              "       'Brigjen Saptadji Hadi Prawira', 'N9 Raden KH Abdullah bin Nuh',\n",
              "       'Letjen Ibrahim Adjie', 'N9 Jalan Raya Tajur', 'Surya Kencana',\n",
              "       'Laladon Raya', 'Mayjen Ishak Djuarsa', 'N9 KH Soleh Iskandar',\n",
              "       'Pahlawan', 'Ence Sumartadireja',\n",
              "       'KH Soleh Iskandar (Jalur Lambat)', 'Siliwangi',\n",
              "       'N9 Jalak Harupat', 'Jenderal Sudirman', 'Pajajaran Indah 5',\n",
              "       'Ciomas Raya', 'Cilebut Raya', 'Tol Jagorawi', 'N9 KS Tubun',\n",
              "       'Dr Sumeru', 'TB M Falak', 'Jalan Empang', 'Semplak Raya',\n",
              "       'Cimanggu Kaum', 'Atang Sanjaya', 'N6 Jalan Raya Baru',\n",
              "       'Exit 6: Yasmin/Dramaga/Parung', 'Jalan Lingkar Dramaga',\n",
              "       'Arah Masuk Tol Bogor Lingkar Luar', 'Taman Cimanggu Raya',\n",
              "       'Kedunghalang Raya', 'Padi', 'Batu Tulis',\n",
              "       'RH Soelaeman A Kartadjoemena', 'Achmad Adnawijaya', 'Dereded',\n",
              "       'Bogor Baru Raya', 'N8 Jalan Raya Sukabumi', 'Mandala Raya',\n",
              "       'Babakan Dramaga', 'Subur', 'N9 Otto Iskandardinata',\n",
              "       'RE Abdullah', 'Pulo Empang', 'Kolonel Ahmad Syam', 'Pasir Kuda',\n",
              "       'Veteran', 'Merdeka', 'Pemuda', 'Katulampa Raya',\n",
              "       'Tentara Pelajar', 'Pancasan Atas', 'Pakuan',\n",
              "       'Baranangsiang Indah', 'Exit Tol Tajur', 'Tumenggung Wiradireja',\n",
              "       'Pandu Raya', 'Pangeran Asogiri', 'Tol Bocimi',\n",
              "       'Bukit Cimanggu City Raya',\n",
              "       'Exit 3: Kedung Halang/Cibinong/Warung Jambu', 'Dadali',\n",
              "       'N6 Jalan Raya Kemang-Bogor', 'HM Syarifudin', 'Cifor',\n",
              "       'Cilendek Timur', 'Lawang Gintung', 'Sumurwangi', 'Manunggal',\n",
              "       'Jalan Danau Bogor Raya'], dtype=object)"
            ]
          },
          "metadata": {},
          "execution_count": 6
        }
      ]
    },
    {
      "cell_type": "code",
      "source": [
        "df2['jam_level'].unique()"
      ],
      "metadata": {
        "colab": {
          "base_uri": "https://localhost:8080/"
        },
        "id": "sVuIxoALyDOl",
        "outputId": "a025fd1c-787d-4815-e5f2-d5c981f8005f"
      },
      "execution_count": 7,
      "outputs": [
        {
          "output_type": "execute_result",
          "data": {
            "text/plain": [
              "array([4, 3, 2, 1])"
            ]
          },
          "metadata": {},
          "execution_count": 7
        }
      ]
    },
    {
      "cell_type": "code",
      "source": [
        "df2.info()"
      ],
      "metadata": {
        "colab": {
          "base_uri": "https://localhost:8080/"
        },
        "id": "sNfZBP-Izu2R",
        "outputId": "ca6f5b82-17a9-49ee-d92e-dcb992515a02"
      },
      "execution_count": 8,
      "outputs": [
        {
          "output_type": "stream",
          "name": "stdout",
          "text": [
            "<class 'pandas.core.frame.DataFrame'>\n",
            "Index: 4051 entries, 2022-07-06 09:00:00.000 to 2022-09-04 21:00:00.000\n",
            "Data columns (total 15 columns):\n",
            " #   Column                     Non-Null Count  Dtype  \n",
            "---  ------                     --------------  -----  \n",
            " 0   kemendagri_kabupaten_kode  4051 non-null   float64\n",
            " 1   kemendagri_kabupaten_nama  4051 non-null   object \n",
            " 2   street                     4051 non-null   object \n",
            " 3   jam_level                  4051 non-null   int64  \n",
            " 4   median_length              4051 non-null   float64\n",
            " 5   median_delay_seconds       4051 non-null   float64\n",
            " 6   median_regular_speed       4051 non-null   float64\n",
            " 7   total_records              4051 non-null   int64  \n",
            " 8   cause_type                 0 non-null      float64\n",
            " 9   median_seconds             4051 non-null   float64\n",
            " 10  median_speed               4051 non-null   float64\n",
            " 11  date                       4051 non-null   object \n",
            " 12  median_jam_level           4051 non-null   float64\n",
            " 13  id                         4051 non-null   int64  \n",
            " 14  geometry                   4051 non-null   object \n",
            "dtypes: float64(8), int64(3), object(4)\n",
            "memory usage: 506.4+ KB\n"
          ]
        }
      ]
    },
    {
      "cell_type": "markdown",
      "source": [
        "# **Quality**"
      ],
      "metadata": {
        "id": "cslIftO2x1RD"
      }
    },
    {
      "cell_type": "markdown",
      "source": [
        "Delete NaN rows in table"
      ],
      "metadata": {
        "id": "yCU0WajM0Urf"
      }
    },
    {
      "cell_type": "code",
      "source": [
        "df2[df2['street']!='NaN'].isnull().sum()"
      ],
      "metadata": {
        "colab": {
          "base_uri": "https://localhost:8080/"
        },
        "id": "lUCNXQ3-0s69",
        "outputId": "dc4e6743-3478-4673-94a6-ca6951fa9b99"
      },
      "execution_count": 7,
      "outputs": [
        {
          "output_type": "execute_result",
          "data": {
            "text/plain": [
              "kemendagri_kabupaten_kode       0\n",
              "kemendagri_kabupaten_nama       0\n",
              "street                          0\n",
              "jam_level                       0\n",
              "median_length                   0\n",
              "median_delay_seconds            0\n",
              "median_regular_speed            0\n",
              "total_records                   0\n",
              "cause_type                   4051\n",
              "median_seconds                  0\n",
              "median_speed                    0\n",
              "date                            0\n",
              "median_jam_level                0\n",
              "id                              0\n",
              "geometry                        0\n",
              "dtype: int64"
            ]
          },
          "metadata": {},
          "execution_count": 7
        }
      ]
    },
    {
      "cell_type": "code",
      "source": [
        "df2['street']"
      ],
      "metadata": {
        "colab": {
          "base_uri": "https://localhost:8080/"
        },
        "id": "3WUkYYp7G1Zt",
        "outputId": "14b385c6-3847-47b7-e5b7-8269069d8838"
      },
      "execution_count": 10,
      "outputs": [
        {
          "output_type": "execute_result",
          "data": {
            "text/plain": [
              "time\n",
              "2022-07-06 09:00:00.000             N9 Jalan Raya Dramaga\n",
              "2022-07-06 09:00:00.000             N9 Jalan Raya Dramaga\n",
              "2022-07-06 10:00:00.000                      Kapten Yusuf\n",
              "2022-07-06 10:00:00.000    N9 Underpass KH Soleh Iskandar\n",
              "2022-07-06 10:00:00.000             N9 Jalan Raya Dramaga\n",
              "                                        ...              \n",
              "2022-09-04 19:00:00.000               N9 Jalan Raya Ciawi\n",
              "2022-09-04 19:00:00.000             N9 Jalan Raya Dramaga\n",
              "2022-09-04 19:00:00.000                      Kapten Yusuf\n",
              "2022-09-04 20:00:00.000             N9 Jalan Raya Dramaga\n",
              "2022-09-04 21:00:00.000             N9 Jalan Raya Dramaga\n",
              "Name: street, Length: 4051, dtype: object"
            ]
          },
          "metadata": {},
          "execution_count": 10
        }
      ]
    },
    {
      "cell_type": "markdown",
      "source": [
        "[EDA] Checking relationship of street with jam level"
      ],
      "metadata": {
        "id": "eUEjq6kaHB6d"
      }
    },
    {
      "cell_type": "code",
      "source": [
        "df2.describe(include='all')"
      ],
      "metadata": {
        "colab": {
          "base_uri": "https://localhost:8080/",
          "height": 510
        },
        "id": "yXofrlrcHDFb",
        "outputId": "bb43e671-801c-4dd1-a338-60bbcda1ac71"
      },
      "execution_count": 11,
      "outputs": [
        {
          "output_type": "execute_result",
          "data": {
            "text/plain": [
              "        kemendagri_kabupaten_kode kemendagri_kabupaten_nama  \\\n",
              "count                4.051000e+03                      4051   \n",
              "unique                        NaN                         1   \n",
              "top                           NaN                KOTA BOGOR   \n",
              "freq                          NaN                      4051   \n",
              "mean                 3.271000e+01                       NaN   \n",
              "std                  7.106305e-15                       NaN   \n",
              "min                  3.271000e+01                       NaN   \n",
              "25%                  3.271000e+01                       NaN   \n",
              "50%                  3.271000e+01                       NaN   \n",
              "75%                  3.271000e+01                       NaN   \n",
              "max                  3.271000e+01                       NaN   \n",
              "\n",
              "                       street    jam_level  median_length  \\\n",
              "count                    4051  4051.000000    4051.000000   \n",
              "unique                     85          NaN            NaN   \n",
              "top     N9 Jalan Raya Dramaga          NaN            NaN   \n",
              "freq                      768          NaN            NaN   \n",
              "mean                      NaN     3.542582    1232.675389   \n",
              "std                       NaN     0.603571     732.053520   \n",
              "min                       NaN     1.000000     500.000000   \n",
              "25%                       NaN     3.000000     747.000000   \n",
              "50%                       NaN     4.000000    1072.000000   \n",
              "75%                       NaN     4.000000    1420.000000   \n",
              "max                       NaN     4.000000    7105.000000   \n",
              "\n",
              "        median_delay_seconds  median_regular_speed  total_records  cause_type  \\\n",
              "count            4051.000000           4051.000000    4051.000000         0.0   \n",
              "unique                   NaN                   NaN            NaN         NaN   \n",
              "top                      NaN                   NaN            NaN         NaN   \n",
              "freq                     NaN                   NaN            NaN         NaN   \n",
              "mean              567.778697             20.019296      15.730190         NaN   \n",
              "std               280.972259             11.149602      17.365754         NaN   \n",
              "min                60.000000              4.050000       1.000000         NaN   \n",
              "25%               381.500000             14.017500       4.000000         NaN   \n",
              "50%               541.000000             18.345001      10.000000         NaN   \n",
              "75%               701.000000             23.277501      21.000000         NaN   \n",
              "max              2588.500000             92.710000     126.000000         NaN   \n",
              "\n",
              "        median_seconds  median_speed        date  median_jam_level  \\\n",
              "count      4051.000000   4051.000000        4051       4051.000000   \n",
              "unique             NaN           NaN          61               NaN   \n",
              "top                NaN           NaN  2022-07-16               NaN   \n",
              "freq               NaN           NaN         199               NaN   \n",
              "mean        688.843125      7.244319         NaN          3.542582   \n",
              "std         297.049553      4.563263         NaN          0.603571   \n",
              "min         118.000000      0.880000         NaN          1.000000   \n",
              "25%         493.000000      4.280000         NaN          3.000000   \n",
              "50%         661.000000      6.220000         NaN          4.000000   \n",
              "75%         839.000000      8.920000         NaN          4.000000   \n",
              "max        2676.500000     51.425000         NaN          4.000000   \n",
              "\n",
              "                  id                                           geometry  \n",
              "count   4.051000e+03                                               4051  \n",
              "unique           NaN                                               3824  \n",
              "top              NaN  MULTILINESTRING ((106.739572 -6.570715, 106.73...  \n",
              "freq             NaN                                                  5  \n",
              "mean    1.543578e+06                                                NaN  \n",
              "std     2.515182e+04                                                NaN  \n",
              "min     1.492792e+06                                                NaN  \n",
              "25%     1.524546e+06                                                NaN  \n",
              "50%     1.546230e+06                                                NaN  \n",
              "75%     1.566736e+06                                                NaN  \n",
              "max     1.583286e+06                                                NaN  "
            ],
            "text/html": [
              "\n",
              "  <div id=\"df-e83fd7b8-024d-454f-98a0-412387b95d6d\">\n",
              "    <div class=\"colab-df-container\">\n",
              "      <div>\n",
              "<style scoped>\n",
              "    .dataframe tbody tr th:only-of-type {\n",
              "        vertical-align: middle;\n",
              "    }\n",
              "\n",
              "    .dataframe tbody tr th {\n",
              "        vertical-align: top;\n",
              "    }\n",
              "\n",
              "    .dataframe thead th {\n",
              "        text-align: right;\n",
              "    }\n",
              "</style>\n",
              "<table border=\"1\" class=\"dataframe\">\n",
              "  <thead>\n",
              "    <tr style=\"text-align: right;\">\n",
              "      <th></th>\n",
              "      <th>kemendagri_kabupaten_kode</th>\n",
              "      <th>kemendagri_kabupaten_nama</th>\n",
              "      <th>street</th>\n",
              "      <th>jam_level</th>\n",
              "      <th>median_length</th>\n",
              "      <th>median_delay_seconds</th>\n",
              "      <th>median_regular_speed</th>\n",
              "      <th>total_records</th>\n",
              "      <th>cause_type</th>\n",
              "      <th>median_seconds</th>\n",
              "      <th>median_speed</th>\n",
              "      <th>date</th>\n",
              "      <th>median_jam_level</th>\n",
              "      <th>id</th>\n",
              "      <th>geometry</th>\n",
              "    </tr>\n",
              "  </thead>\n",
              "  <tbody>\n",
              "    <tr>\n",
              "      <th>count</th>\n",
              "      <td>4.051000e+03</td>\n",
              "      <td>4051</td>\n",
              "      <td>4051</td>\n",
              "      <td>4051.000000</td>\n",
              "      <td>4051.000000</td>\n",
              "      <td>4051.000000</td>\n",
              "      <td>4051.000000</td>\n",
              "      <td>4051.000000</td>\n",
              "      <td>0.0</td>\n",
              "      <td>4051.000000</td>\n",
              "      <td>4051.000000</td>\n",
              "      <td>4051</td>\n",
              "      <td>4051.000000</td>\n",
              "      <td>4.051000e+03</td>\n",
              "      <td>4051</td>\n",
              "    </tr>\n",
              "    <tr>\n",
              "      <th>unique</th>\n",
              "      <td>NaN</td>\n",
              "      <td>1</td>\n",
              "      <td>85</td>\n",
              "      <td>NaN</td>\n",
              "      <td>NaN</td>\n",
              "      <td>NaN</td>\n",
              "      <td>NaN</td>\n",
              "      <td>NaN</td>\n",
              "      <td>NaN</td>\n",
              "      <td>NaN</td>\n",
              "      <td>NaN</td>\n",
              "      <td>61</td>\n",
              "      <td>NaN</td>\n",
              "      <td>NaN</td>\n",
              "      <td>3824</td>\n",
              "    </tr>\n",
              "    <tr>\n",
              "      <th>top</th>\n",
              "      <td>NaN</td>\n",
              "      <td>KOTA BOGOR</td>\n",
              "      <td>N9 Jalan Raya Dramaga</td>\n",
              "      <td>NaN</td>\n",
              "      <td>NaN</td>\n",
              "      <td>NaN</td>\n",
              "      <td>NaN</td>\n",
              "      <td>NaN</td>\n",
              "      <td>NaN</td>\n",
              "      <td>NaN</td>\n",
              "      <td>NaN</td>\n",
              "      <td>2022-07-16</td>\n",
              "      <td>NaN</td>\n",
              "      <td>NaN</td>\n",
              "      <td>MULTILINESTRING ((106.739572 -6.570715, 106.73...</td>\n",
              "    </tr>\n",
              "    <tr>\n",
              "      <th>freq</th>\n",
              "      <td>NaN</td>\n",
              "      <td>4051</td>\n",
              "      <td>768</td>\n",
              "      <td>NaN</td>\n",
              "      <td>NaN</td>\n",
              "      <td>NaN</td>\n",
              "      <td>NaN</td>\n",
              "      <td>NaN</td>\n",
              "      <td>NaN</td>\n",
              "      <td>NaN</td>\n",
              "      <td>NaN</td>\n",
              "      <td>199</td>\n",
              "      <td>NaN</td>\n",
              "      <td>NaN</td>\n",
              "      <td>5</td>\n",
              "    </tr>\n",
              "    <tr>\n",
              "      <th>mean</th>\n",
              "      <td>3.271000e+01</td>\n",
              "      <td>NaN</td>\n",
              "      <td>NaN</td>\n",
              "      <td>3.542582</td>\n",
              "      <td>1232.675389</td>\n",
              "      <td>567.778697</td>\n",
              "      <td>20.019296</td>\n",
              "      <td>15.730190</td>\n",
              "      <td>NaN</td>\n",
              "      <td>688.843125</td>\n",
              "      <td>7.244319</td>\n",
              "      <td>NaN</td>\n",
              "      <td>3.542582</td>\n",
              "      <td>1.543578e+06</td>\n",
              "      <td>NaN</td>\n",
              "    </tr>\n",
              "    <tr>\n",
              "      <th>std</th>\n",
              "      <td>7.106305e-15</td>\n",
              "      <td>NaN</td>\n",
              "      <td>NaN</td>\n",
              "      <td>0.603571</td>\n",
              "      <td>732.053520</td>\n",
              "      <td>280.972259</td>\n",
              "      <td>11.149602</td>\n",
              "      <td>17.365754</td>\n",
              "      <td>NaN</td>\n",
              "      <td>297.049553</td>\n",
              "      <td>4.563263</td>\n",
              "      <td>NaN</td>\n",
              "      <td>0.603571</td>\n",
              "      <td>2.515182e+04</td>\n",
              "      <td>NaN</td>\n",
              "    </tr>\n",
              "    <tr>\n",
              "      <th>min</th>\n",
              "      <td>3.271000e+01</td>\n",
              "      <td>NaN</td>\n",
              "      <td>NaN</td>\n",
              "      <td>1.000000</td>\n",
              "      <td>500.000000</td>\n",
              "      <td>60.000000</td>\n",
              "      <td>4.050000</td>\n",
              "      <td>1.000000</td>\n",
              "      <td>NaN</td>\n",
              "      <td>118.000000</td>\n",
              "      <td>0.880000</td>\n",
              "      <td>NaN</td>\n",
              "      <td>1.000000</td>\n",
              "      <td>1.492792e+06</td>\n",
              "      <td>NaN</td>\n",
              "    </tr>\n",
              "    <tr>\n",
              "      <th>25%</th>\n",
              "      <td>3.271000e+01</td>\n",
              "      <td>NaN</td>\n",
              "      <td>NaN</td>\n",
              "      <td>3.000000</td>\n",
              "      <td>747.000000</td>\n",
              "      <td>381.500000</td>\n",
              "      <td>14.017500</td>\n",
              "      <td>4.000000</td>\n",
              "      <td>NaN</td>\n",
              "      <td>493.000000</td>\n",
              "      <td>4.280000</td>\n",
              "      <td>NaN</td>\n",
              "      <td>3.000000</td>\n",
              "      <td>1.524546e+06</td>\n",
              "      <td>NaN</td>\n",
              "    </tr>\n",
              "    <tr>\n",
              "      <th>50%</th>\n",
              "      <td>3.271000e+01</td>\n",
              "      <td>NaN</td>\n",
              "      <td>NaN</td>\n",
              "      <td>4.000000</td>\n",
              "      <td>1072.000000</td>\n",
              "      <td>541.000000</td>\n",
              "      <td>18.345001</td>\n",
              "      <td>10.000000</td>\n",
              "      <td>NaN</td>\n",
              "      <td>661.000000</td>\n",
              "      <td>6.220000</td>\n",
              "      <td>NaN</td>\n",
              "      <td>4.000000</td>\n",
              "      <td>1.546230e+06</td>\n",
              "      <td>NaN</td>\n",
              "    </tr>\n",
              "    <tr>\n",
              "      <th>75%</th>\n",
              "      <td>3.271000e+01</td>\n",
              "      <td>NaN</td>\n",
              "      <td>NaN</td>\n",
              "      <td>4.000000</td>\n",
              "      <td>1420.000000</td>\n",
              "      <td>701.000000</td>\n",
              "      <td>23.277501</td>\n",
              "      <td>21.000000</td>\n",
              "      <td>NaN</td>\n",
              "      <td>839.000000</td>\n",
              "      <td>8.920000</td>\n",
              "      <td>NaN</td>\n",
              "      <td>4.000000</td>\n",
              "      <td>1.566736e+06</td>\n",
              "      <td>NaN</td>\n",
              "    </tr>\n",
              "    <tr>\n",
              "      <th>max</th>\n",
              "      <td>3.271000e+01</td>\n",
              "      <td>NaN</td>\n",
              "      <td>NaN</td>\n",
              "      <td>4.000000</td>\n",
              "      <td>7105.000000</td>\n",
              "      <td>2588.500000</td>\n",
              "      <td>92.710000</td>\n",
              "      <td>126.000000</td>\n",
              "      <td>NaN</td>\n",
              "      <td>2676.500000</td>\n",
              "      <td>51.425000</td>\n",
              "      <td>NaN</td>\n",
              "      <td>4.000000</td>\n",
              "      <td>1.583286e+06</td>\n",
              "      <td>NaN</td>\n",
              "    </tr>\n",
              "  </tbody>\n",
              "</table>\n",
              "</div>\n",
              "      <button class=\"colab-df-convert\" onclick=\"convertToInteractive('df-e83fd7b8-024d-454f-98a0-412387b95d6d')\"\n",
              "              title=\"Convert this dataframe to an interactive table.\"\n",
              "              style=\"display:none;\">\n",
              "        \n",
              "  <svg xmlns=\"http://www.w3.org/2000/svg\" height=\"24px\"viewBox=\"0 0 24 24\"\n",
              "       width=\"24px\">\n",
              "    <path d=\"M0 0h24v24H0V0z\" fill=\"none\"/>\n",
              "    <path d=\"M18.56 5.44l.94 2.06.94-2.06 2.06-.94-2.06-.94-.94-2.06-.94 2.06-2.06.94zm-11 1L8.5 8.5l.94-2.06 2.06-.94-2.06-.94L8.5 2.5l-.94 2.06-2.06.94zm10 10l.94 2.06.94-2.06 2.06-.94-2.06-.94-.94-2.06-.94 2.06-2.06.94z\"/><path d=\"M17.41 7.96l-1.37-1.37c-.4-.4-.92-.59-1.43-.59-.52 0-1.04.2-1.43.59L10.3 9.45l-7.72 7.72c-.78.78-.78 2.05 0 2.83L4 21.41c.39.39.9.59 1.41.59.51 0 1.02-.2 1.41-.59l7.78-7.78 2.81-2.81c.8-.78.8-2.07 0-2.86zM5.41 20L4 18.59l7.72-7.72 1.47 1.35L5.41 20z\"/>\n",
              "  </svg>\n",
              "      </button>\n",
              "      \n",
              "  <style>\n",
              "    .colab-df-container {\n",
              "      display:flex;\n",
              "      flex-wrap:wrap;\n",
              "      gap: 12px;\n",
              "    }\n",
              "\n",
              "    .colab-df-convert {\n",
              "      background-color: #E8F0FE;\n",
              "      border: none;\n",
              "      border-radius: 50%;\n",
              "      cursor: pointer;\n",
              "      display: none;\n",
              "      fill: #1967D2;\n",
              "      height: 32px;\n",
              "      padding: 0 0 0 0;\n",
              "      width: 32px;\n",
              "    }\n",
              "\n",
              "    .colab-df-convert:hover {\n",
              "      background-color: #E2EBFA;\n",
              "      box-shadow: 0px 1px 2px rgba(60, 64, 67, 0.3), 0px 1px 3px 1px rgba(60, 64, 67, 0.15);\n",
              "      fill: #174EA6;\n",
              "    }\n",
              "\n",
              "    [theme=dark] .colab-df-convert {\n",
              "      background-color: #3B4455;\n",
              "      fill: #D2E3FC;\n",
              "    }\n",
              "\n",
              "    [theme=dark] .colab-df-convert:hover {\n",
              "      background-color: #434B5C;\n",
              "      box-shadow: 0px 1px 3px 1px rgba(0, 0, 0, 0.15);\n",
              "      filter: drop-shadow(0px 1px 2px rgba(0, 0, 0, 0.3));\n",
              "      fill: #FFFFFF;\n",
              "    }\n",
              "  </style>\n",
              "\n",
              "      <script>\n",
              "        const buttonEl =\n",
              "          document.querySelector('#df-e83fd7b8-024d-454f-98a0-412387b95d6d button.colab-df-convert');\n",
              "        buttonEl.style.display =\n",
              "          google.colab.kernel.accessAllowed ? 'block' : 'none';\n",
              "\n",
              "        async function convertToInteractive(key) {\n",
              "          const element = document.querySelector('#df-e83fd7b8-024d-454f-98a0-412387b95d6d');\n",
              "          const dataTable =\n",
              "            await google.colab.kernel.invokeFunction('convertToInteractive',\n",
              "                                                     [key], {});\n",
              "          if (!dataTable) return;\n",
              "\n",
              "          const docLinkHtml = 'Like what you see? Visit the ' +\n",
              "            '<a target=\"_blank\" href=https://colab.research.google.com/notebooks/data_table.ipynb>data table notebook</a>'\n",
              "            + ' to learn more about interactive tables.';\n",
              "          element.innerHTML = '';\n",
              "          dataTable['output_type'] = 'display_data';\n",
              "          await google.colab.output.renderOutput(dataTable, element);\n",
              "          const docLink = document.createElement('div');\n",
              "          docLink.innerHTML = docLinkHtml;\n",
              "          element.appendChild(docLink);\n",
              "        }\n",
              "      </script>\n",
              "    </div>\n",
              "  </div>\n",
              "  "
            ]
          },
          "metadata": {},
          "execution_count": 11
        }
      ]
    },
    {
      "cell_type": "code",
      "source": [
        "plt.subplots(figsize=(15,7))\n",
        "ax=sns.boxplot(x='street',y='jam_level',data=df2)\n",
        "plt.ticklabel_format(style='plain', axis='y')\n",
        "plt.show()"
      ],
      "metadata": {
        "colab": {
          "base_uri": "https://localhost:8080/",
          "height": 433
        },
        "id": "LYtnetYYHQwN",
        "outputId": "2d4fcd43-1a49-42ac-ed17-5a89e7a731d9"
      },
      "execution_count": 15,
      "outputs": [
        {
          "output_type": "display_data",
          "data": {
            "text/plain": [
              "<Figure size 1080x504 with 1 Axes>"
            ],
            "image/png": "[encoded data removed]"
          },
          "metadata": {
            "needs_background": "light"
          }
        }
      ]
    },
    {
      "cell_type": "code",
      "source": [
        "plt.subplots(figsize=(20,10))\n",
        "ax=sns.swarmplot(x='street',y='jam_level',data=df2)\n",
        "ax.set_xticklabels(ax.get_xticklabels(),rotation=40,ha='right')\n",
        "plt.show()"
      ],
      "metadata": {
        "colab": {
          "base_uri": "https://localhost:8080/",
          "height": 1000
        },
        "id": "Y4wgYpIkHfOM",
        "outputId": "c762aa30-edca-4461-e53a-f5e3dad58545"
      },
      "execution_count": 16,
      "outputs": [
        {
          "output_type": "stream",
          "name": "stderr",
          "text": [
            "/usr/local/lib/python3.8/dist-packages/seaborn/categorical.py:1296: UserWarning: 98.8% of the points cannot be placed; you may want to decrease the size of the markers or use stripplot.\n",
            "  warnings.warn(msg, UserWarning)\n",
            "/usr/local/lib/python3.8/dist-packages/seaborn/categorical.py:1296: UserWarning: 95.8% of the points cannot be placed; you may want to decrease the size of the markers or use stripplot.\n",
            "  warnings.warn(msg, UserWarning)\n",
            "/usr/local/lib/python3.8/dist-packages/seaborn/categorical.py:1296: UserWarning: 81.1% of the points cannot be placed; you may want to decrease the size of the markers or use stripplot.\n",
            "  warnings.warn(msg, UserWarning)\n",
            "/usr/local/lib/python3.8/dist-packages/seaborn/categorical.py:1296: UserWarning: 92.3% of the points cannot be placed; you may want to decrease the size of the markers or use stripplot.\n",
            "  warnings.warn(msg, UserWarning)\n",
            "/usr/local/lib/python3.8/dist-packages/seaborn/categorical.py:1296: UserWarning: 81.8% of the points cannot be placed; you may want to decrease the size of the markers or use stripplot.\n",
            "  warnings.warn(msg, UserWarning)\n",
            "/usr/local/lib/python3.8/dist-packages/seaborn/categorical.py:1296: UserWarning: 83.3% of the points cannot be placed; you may want to decrease the size of the markers or use stripplot.\n",
            "  warnings.warn(msg, UserWarning)\n",
            "/usr/local/lib/python3.8/dist-packages/seaborn/categorical.py:1296: UserWarning: 95.4% of the points cannot be placed; you may want to decrease the size of the markers or use stripplot.\n",
            "  warnings.warn(msg, UserWarning)\n",
            "/usr/local/lib/python3.8/dist-packages/seaborn/categorical.py:1296: UserWarning: 66.7% of the points cannot be placed; you may want to decrease the size of the markers or use stripplot.\n",
            "  warnings.warn(msg, UserWarning)\n",
            "/usr/local/lib/python3.8/dist-packages/seaborn/categorical.py:1296: UserWarning: 71.4% of the points cannot be placed; you may want to decrease the size of the markers or use stripplot.\n",
            "  warnings.warn(msg, UserWarning)\n",
            "/usr/local/lib/python3.8/dist-packages/seaborn/categorical.py:1296: UserWarning: 80.0% of the points cannot be placed; you may want to decrease the size of the markers or use stripplot.\n",
            "  warnings.warn(msg, UserWarning)\n",
            "/usr/local/lib/python3.8/dist-packages/seaborn/categorical.py:1296: UserWarning: 95.0% of the points cannot be placed; you may want to decrease the size of the markers or use stripplot.\n",
            "  warnings.warn(msg, UserWarning)\n",
            "/usr/local/lib/python3.8/dist-packages/seaborn/categorical.py:1296: UserWarning: 79.1% of the points cannot be placed; you may want to decrease the size of the markers or use stripplot.\n",
            "  warnings.warn(msg, UserWarning)\n",
            "/usr/local/lib/python3.8/dist-packages/seaborn/categorical.py:1296: UserWarning: 96.1% of the points cannot be placed; you may want to decrease the size of the markers or use stripplot.\n",
            "  warnings.warn(msg, UserWarning)\n",
            "/usr/local/lib/python3.8/dist-packages/seaborn/categorical.py:1296: UserWarning: 82.1% of the points cannot be placed; you may want to decrease the size of the markers or use stripplot.\n",
            "  warnings.warn(msg, UserWarning)\n",
            "/usr/local/lib/python3.8/dist-packages/seaborn/categorical.py:1296: UserWarning: 90.3% of the points cannot be placed; you may want to decrease the size of the markers or use stripplot.\n",
            "  warnings.warn(msg, UserWarning)\n",
            "/usr/local/lib/python3.8/dist-packages/seaborn/categorical.py:1296: UserWarning: 95.7% of the points cannot be placed; you may want to decrease the size of the markers or use stripplot.\n",
            "  warnings.warn(msg, UserWarning)\n",
            "/usr/local/lib/python3.8/dist-packages/seaborn/categorical.py:1296: UserWarning: 90.0% of the points cannot be placed; you may want to decrease the size of the markers or use stripplot.\n",
            "  warnings.warn(msg, UserWarning)\n",
            "/usr/local/lib/python3.8/dist-packages/seaborn/categorical.py:1296: UserWarning: 96.6% of the points cannot be placed; you may want to decrease the size of the markers or use stripplot.\n",
            "  warnings.warn(msg, UserWarning)\n",
            "/usr/local/lib/python3.8/dist-packages/seaborn/categorical.py:1296: UserWarning: 94.4% of the points cannot be placed; you may want to decrease the size of the markers or use stripplot.\n",
            "  warnings.warn(msg, UserWarning)\n",
            "/usr/local/lib/python3.8/dist-packages/seaborn/categorical.py:1296: UserWarning: 53.8% of the points cannot be placed; you may want to decrease the size of the markers or use stripplot.\n",
            "  warnings.warn(msg, UserWarning)\n",
            "/usr/local/lib/python3.8/dist-packages/seaborn/categorical.py:1296: UserWarning: 88.8% of the points cannot be placed; you may want to decrease the size of the markers or use stripplot.\n",
            "  warnings.warn(msg, UserWarning)\n",
            "/usr/local/lib/python3.8/dist-packages/seaborn/categorical.py:1296: UserWarning: 87.5% of the points cannot be placed; you may want to decrease the size of the markers or use stripplot.\n",
            "  warnings.warn(msg, UserWarning)\n",
            "/usr/local/lib/python3.8/dist-packages/seaborn/categorical.py:1296: UserWarning: 92.6% of the points cannot be placed; you may want to decrease the size of the markers or use stripplot.\n",
            "  warnings.warn(msg, UserWarning)\n",
            "/usr/local/lib/python3.8/dist-packages/seaborn/categorical.py:1296: UserWarning: 61.9% of the points cannot be placed; you may want to decrease the size of the markers or use stripplot.\n",
            "  warnings.warn(msg, UserWarning)\n",
            "/usr/local/lib/python3.8/dist-packages/seaborn/categorical.py:1296: UserWarning: 50.0% of the points cannot be placed; you may want to decrease the size of the markers or use stripplot.\n",
            "  warnings.warn(msg, UserWarning)\n",
            "/usr/local/lib/python3.8/dist-packages/seaborn/categorical.py:1296: UserWarning: 70.4% of the points cannot be placed; you may want to decrease the size of the markers or use stripplot.\n",
            "  warnings.warn(msg, UserWarning)\n",
            "/usr/local/lib/python3.8/dist-packages/seaborn/categorical.py:1296: UserWarning: 40.0% of the points cannot be placed; you may want to decrease the size of the markers or use stripplot.\n",
            "  warnings.warn(msg, UserWarning)\n",
            "/usr/local/lib/python3.8/dist-packages/seaborn/categorical.py:1296: UserWarning: 67.9% of the points cannot be placed; you may want to decrease the size of the markers or use stripplot.\n",
            "  warnings.warn(msg, UserWarning)\n",
            "/usr/local/lib/python3.8/dist-packages/seaborn/categorical.py:1296: UserWarning: 60.9% of the points cannot be placed; you may want to decrease the size of the markers or use stripplot.\n",
            "  warnings.warn(msg, UserWarning)\n",
            "/usr/local/lib/python3.8/dist-packages/seaborn/categorical.py:1296: UserWarning: 70.7% of the points cannot be placed; you may want to decrease the size of the markers or use stripplot.\n",
            "  warnings.warn(msg, UserWarning)\n",
            "/usr/local/lib/python3.8/dist-packages/seaborn/categorical.py:1296: UserWarning: 79.5% of the points cannot be placed; you may want to decrease the size of the markers or use stripplot.\n",
            "  warnings.warn(msg, UserWarning)\n",
            "/usr/local/lib/python3.8/dist-packages/seaborn/categorical.py:1296: UserWarning: 90.5% of the points cannot be placed; you may want to decrease the size of the markers or use stripplot.\n",
            "  warnings.warn(msg, UserWarning)\n",
            "/usr/local/lib/python3.8/dist-packages/seaborn/categorical.py:1296: UserWarning: 73.3% of the points cannot be placed; you may want to decrease the size of the markers or use stripplot.\n",
            "  warnings.warn(msg, UserWarning)\n",
            "/usr/local/lib/python3.8/dist-packages/seaborn/categorical.py:1296: UserWarning: 96.0% of the points cannot be placed; you may want to decrease the size of the markers or use stripplot.\n",
            "  warnings.warn(msg, UserWarning)\n",
            "/usr/local/lib/python3.8/dist-packages/seaborn/categorical.py:1296: UserWarning: 86.8% of the points cannot be placed; you may want to decrease the size of the markers or use stripplot.\n",
            "  warnings.warn(msg, UserWarning)\n",
            "/usr/local/lib/python3.8/dist-packages/seaborn/categorical.py:1296: UserWarning: 25.0% of the points cannot be placed; you may want to decrease the size of the markers or use stripplot.\n",
            "  warnings.warn(msg, UserWarning)\n",
            "/usr/local/lib/python3.8/dist-packages/seaborn/categorical.py:1296: UserWarning: 68.4% of the points cannot be placed; you may want to decrease the size of the markers or use stripplot.\n",
            "  warnings.warn(msg, UserWarning)\n",
            "/usr/local/lib/python3.8/dist-packages/seaborn/categorical.py:1296: UserWarning: 62.5% of the points cannot be placed; you may want to decrease the size of the markers or use stripplot.\n",
            "  warnings.warn(msg, UserWarning)\n",
            "/usr/local/lib/python3.8/dist-packages/seaborn/categorical.py:1296: UserWarning: 86.0% of the points cannot be placed; you may want to decrease the size of the markers or use stripplot.\n",
            "  warnings.warn(msg, UserWarning)\n",
            "/usr/local/lib/python3.8/dist-packages/seaborn/categorical.py:1296: UserWarning: 37.5% of the points cannot be placed; you may want to decrease the size of the markers or use stripplot.\n",
            "  warnings.warn(msg, UserWarning)\n",
            "/usr/local/lib/python3.8/dist-packages/seaborn/categorical.py:1296: UserWarning: 70.6% of the points cannot be placed; you may want to decrease the size of the markers or use stripplot.\n",
            "  warnings.warn(msg, UserWarning)\n",
            "/usr/local/lib/python3.8/dist-packages/seaborn/categorical.py:1296: UserWarning: 67.7% of the points cannot be placed; you may want to decrease the size of the markers or use stripplot.\n",
            "  warnings.warn(msg, UserWarning)\n",
            "/usr/local/lib/python3.8/dist-packages/seaborn/categorical.py:1296: UserWarning: 14.3% of the points cannot be placed; you may want to decrease the size of the markers or use stripplot.\n",
            "  warnings.warn(msg, UserWarning)\n",
            "/usr/local/lib/python3.8/dist-packages/seaborn/categorical.py:1296: UserWarning: 90.8% of the points cannot be placed; you may want to decrease the size of the markers or use stripplot.\n",
            "  warnings.warn(msg, UserWarning)\n",
            "/usr/local/lib/python3.8/dist-packages/seaborn/categorical.py:1296: UserWarning: 75.0% of the points cannot be placed; you may want to decrease the size of the markers or use stripplot.\n",
            "  warnings.warn(msg, UserWarning)\n",
            "/usr/local/lib/python3.8/dist-packages/seaborn/categorical.py:1296: UserWarning: 42.9% of the points cannot be placed; you may want to decrease the size of the markers or use stripplot.\n",
            "  warnings.warn(msg, UserWarning)\n",
            "/usr/local/lib/python3.8/dist-packages/seaborn/categorical.py:1296: UserWarning: 89.7% of the points cannot be placed; you may want to decrease the size of the markers or use stripplot.\n",
            "  warnings.warn(msg, UserWarning)\n",
            "/usr/local/lib/python3.8/dist-packages/seaborn/categorical.py:1296: UserWarning: 20.0% of the points cannot be placed; you may want to decrease the size of the markers or use stripplot.\n",
            "  warnings.warn(msg, UserWarning)\n",
            "/usr/local/lib/python3.8/dist-packages/seaborn/categorical.py:1296: UserWarning: 16.7% of the points cannot be placed; you may want to decrease the size of the markers or use stripplot.\n",
            "  warnings.warn(msg, UserWarning)\n",
            "/usr/local/lib/python3.8/dist-packages/seaborn/categorical.py:1296: UserWarning: 60.0% of the points cannot be placed; you may want to decrease the size of the markers or use stripplot.\n",
            "  warnings.warn(msg, UserWarning)\n",
            "/usr/local/lib/python3.8/dist-packages/seaborn/categorical.py:1296: UserWarning: 53.3% of the points cannot be placed; you may want to decrease the size of the markers or use stripplot.\n",
            "  warnings.warn(msg, UserWarning)\n"
          ]
        },
        {
          "output_type": "display_data",
          "data": {
            "text/plain": [
              "<Figure size 1440x720 with 1 Axes>"
            ],
            "image/png": "[encoded data removed]"
          },
          "metadata": {
            "needs_background": "light"
          }
        }
      ]
    },
    {
      "cell_type": "markdown",
      "source": [
        "### Extracting Training Data"
      ],
      "metadata": {
        "id": "o-0SS4RcIG1V"
      }
    },
    {
      "cell_type": "code",
      "source": [
        "x=df2[['street']]\n",
        "y=df2['jam_level']\n",
        "\n",
        "\n",
        "print(\"shape of X = \", x.shape)\n",
        "print(\"shape of y = \", y.shape)"
      ],
      "metadata": {
        "colab": {
          "base_uri": "https://localhost:8080/"
        },
        "id": "4-TcrvWhIIyT",
        "outputId": "5558709f-de51-4832-9c93-7e05827da762"
      },
      "execution_count": 76,
      "outputs": [
        {
          "output_type": "stream",
          "name": "stdout",
          "text": [
            "shape of X =  (4051, 1)\n",
            "shape of y =  (4051,)\n"
          ]
        }
      ]
    },
    {
      "cell_type": "code",
      "source": [
        "x['street'].describe()"
      ],
      "metadata": {
        "colab": {
          "base_uri": "https://localhost:8080/"
        },
        "id": "2qcfW2hBIdpn",
        "outputId": "0b05237a-a96e-474d-8075-4f09b2e2d402"
      },
      "execution_count": 62,
      "outputs": [
        {
          "output_type": "execute_result",
          "data": {
            "text/plain": [
              "count                      4051\n",
              "unique                       85\n",
              "top       N9 Jalan Raya Dramaga\n",
              "freq                        768\n",
              "Name: street, dtype: object"
            ]
          },
          "metadata": {},
          "execution_count": 62
        }
      ]
    },
    {
      "cell_type": "markdown",
      "source": [
        "**Model** "
      ],
      "metadata": {
        "id": "Se9OML0wIknf"
      }
    },
    {
      "cell_type": "markdown",
      "source": [
        "Splitting the data in 4 parts:"
      ],
      "metadata": {
        "id": "CqLQGBDIJCX6"
      }
    },
    {
      "cell_type": "code",
      "source": [
        "from sklearn.model_selection import train_test_split\n",
        "x_train, x_test, y_train, y_test = train_test_split(x,y, test_size=0.2)\n",
        "\n",
        "\n",
        "print(\"shape of X_train = \", x_train.shape)\n",
        "print(\"shape of y_train = \", y_train.shape)\n",
        "print(\"shape of X_test = \", x_test.shape)\n",
        "print(\"shape of y_test = \", y_test.shape)"
      ],
      "metadata": {
        "colab": {
          "base_uri": "https://localhost:8080/"
        },
        "id": "7EriZV32JFFn",
        "outputId": "26c8c3ce-2f2d-4af6-8eac-2166ecf4041e"
      },
      "execution_count": 64,
      "outputs": [
        {
          "output_type": "stream",
          "name": "stdout",
          "text": [
            "shape of X_train =  (3240, 1)\n",
            "shape of y_train =  (3240,)\n",
            "shape of X_test =  (811, 1)\n",
            "shape of y_test =  (811,)\n"
          ]
        }
      ]
    },
    {
      "cell_type": "code",
      "source": [
        "from sklearn.linear_model import LinearRegression\n",
        "from sklearn.metrics import r2_score\n",
        "from sklearn.preprocessing import OneHotEncoder\n",
        "from sklearn.compose import make_column_transformer \n",
        "from sklearn.pipeline import make_pipeline"
      ],
      "metadata": {
        "id": "StY1P89xJT-o"
      },
      "execution_count": 67,
      "outputs": []
    },
    {
      "cell_type": "markdown",
      "source": [
        "r2_score : \"Coefficient of determination also called as R2 score is used to evaluate the performance of a linear regression model.\" It is the amount of the variation in the output dependent attribute which is predictable from the input independent variable(s). Best possible score is 1.0 and it can be negative (because the model can be arbitrarily worse). A constant model that always predicts the expected value of y, disregarding the input features, would get a score of 0.0.\n",
        "\n",
        "OneHotEncoder: Machines understand numbers, not text. We need to convert each text category to numbers in order for the machine to process them using mathematical equations.That’s primarily the reason we need to convert categorical columns to numerical columns so that a machine learning algorithm understands it. This process is called categorical encoding. One-Hot Encoding is another popular technique for treating categorical variables. It simply creates additional features based on the number of unique values in the categorical feature. Every unique value in the category will be added as a feature. One-Hot Encoding is the process of creating dummy variables.\n",
        "\n",
        "Pipeline : Machine Learning projects need iterative progress. For example, we clean and prepare data for modeling with transforming to the proper format, run the model, get results, improve the model/change the model and work on feature engineering, get new results, compare them with other results, etc. It is not easy and smart to do every step again and again. To solve this problem, we can use a pipeline to integrate steps of machine learning workflow. Pipelines are super useful for transforming and training data quickly."
      ],
      "metadata": {
        "id": "ztW3a6WaJZGi"
      }
    },
    {
      "cell_type": "code",
      "source": [
        "ohe = OneHotEncoder()\n",
        "ohe.fit(x[['street']]) "
      ],
      "metadata": {
        "colab": {
          "base_uri": "https://localhost:8080/"
        },
        "id": "YCoI-EhbJaqQ",
        "outputId": "115d9fdc-e95b-4baa-8686-fd8b79b2e3a7"
      },
      "execution_count": 68,
      "outputs": [
        {
          "output_type": "execute_result",
          "data": {
            "text/plain": [
              "OneHotEncoder()"
            ]
          },
          "metadata": {},
          "execution_count": 68
        }
      ]
    },
    {
      "cell_type": "code",
      "source": [
        "ohe"
      ],
      "metadata": {
        "colab": {
          "base_uri": "https://localhost:8080/"
        },
        "id": "cIQpQltEQx9e",
        "outputId": "4634a291-be58-48e8-bacb-0946087d3fbd"
      },
      "execution_count": 74,
      "outputs": [
        {
          "output_type": "execute_result",
          "data": {
            "text/plain": [
              "OneHotEncoder()"
            ]
          },
          "metadata": {},
          "execution_count": 74
        }
      ]
    },
    {
      "cell_type": "code",
      "source": [
        "ohe.categories_ "
      ],
      "metadata": {
        "colab": {
          "base_uri": "https://localhost:8080/"
        },
        "id": "j9_cHNNHJm8t",
        "outputId": "d06818d5-6199-42e0-a07e-1362b25b473e"
      },
      "execution_count": 69,
      "outputs": [
        {
          "output_type": "execute_result",
          "data": {
            "text/plain": [
              "[array(['Achmad Adnawijaya', 'Arah Masuk Tol Bogor Lingkar Luar',\n",
              "        'Atang Sanjaya', 'Babakan Dramaga', 'Baranangsiang Indah',\n",
              "        'Batu Tulis', 'Binamarga', 'Bogor Baru Raya',\n",
              "        'Brigjen Saptadji Hadi Prawira', 'Bukit Cimanggu City Raya',\n",
              "        'Cifor', 'Cilebut Raya', 'Cilendek Timur', 'Cimanggu Kaum',\n",
              "        'Ciomas Raya', 'Dadali', 'Dereded', 'Dr Sumeru',\n",
              "        'Ence Sumartadireja',\n",
              "        'Exit 3: Kedung Halang/Cibinong/Warung Jambu',\n",
              "        'Exit 6: Yasmin/Dramaga/Parung', 'Exit Baranangsiang',\n",
              "        'Exit Tol Tajur', 'HM Syarifudin', 'Jalan Danau Bogor Raya',\n",
              "        'Jalan Empang', 'Jalan Lingkar Dramaga', 'Jalan R3 Katulampa',\n",
              "        'Jenderal Ahmad Yani', 'Jenderal Sudirman',\n",
              "        'KH Soleh Iskandar (Jalur Lambat)', 'Kapten Muslihat',\n",
              "        'Kapten Yusuf', 'Katulampa Raya', 'Kedunghalang Raya',\n",
              "        'Kolonel Ahmad Syam', 'Laladon Raya', 'Lawang Gintung',\n",
              "        'Letjen Ibrahim Adjie', 'Mandala Raya', 'Manunggal',\n",
              "        'Mayjen Ishak Djuarsa', 'Merdeka', 'N6 Jalan Raya Baru',\n",
              "        'N6 Jalan Raya Kemang-Bogor', 'N8 Jalan Raya Bogor',\n",
              "        'N8 Jalan Raya Sukabumi', 'N9 Ir Haji Juanda', 'N9 Jalak Harupat',\n",
              "        'N9 Jalan Raya Ciawi', 'N9 Jalan Raya Dramaga',\n",
              "        'N9 Jalan Raya Pajajaran', 'N9 Jalan Raya Tajur',\n",
              "        'N9 KH Soleh Iskandar', 'N9 KS Tubun', 'N9 Otto Iskandardinata',\n",
              "        'N9 Raden KH Abdullah bin Nuh', 'N9 Underpass KH Soleh Iskandar',\n",
              "        'Padi', 'Pahlawan', 'Pajajaran Indah 5', 'Pakuan', 'Paledang',\n",
              "        'Pancasan Atas', 'Pandawa Raya', 'Pandu Raya', 'Pangeran Asogiri',\n",
              "        'Pasir Kuda', 'Pemuda', 'Pulo Empang', 'RE Abdullah',\n",
              "        'RH Soelaeman A Kartadjoemena', 'Semplak Raya', 'Siliwangi',\n",
              "        'Subur', 'Sumurwangi', 'Surya Kencana', 'TB M Falak',\n",
              "        'Taman Cimanggu Raya', 'Tentara Pelajar', 'Tol Bocimi',\n",
              "        'Tol Jagorawi', 'Tol Lingkar Luar Bogor', 'Tumenggung Wiradireja',\n",
              "        'Veteran'], dtype=object)]"
            ]
          },
          "metadata": {},
          "execution_count": 69
        }
      ]
    },
    {
      "cell_type": "code",
      "source": [
        "column_trans = make_column_transformer((OneHotEncoder(categories=ohe.categories_),['street']), remainder='passthrough')"
      ],
      "metadata": {
        "id": "0RFZmDY9Jqyi"
      },
      "execution_count": 87,
      "outputs": []
    },
    {
      "cell_type": "code",
      "source": [
        "lr = LinearRegression()"
      ],
      "metadata": {
        "id": "Pr2urI_TJvpq"
      },
      "execution_count": 88,
      "outputs": []
    },
    {
      "cell_type": "code",
      "source": [
        "pipe = make_pipeline(column_trans,lr) # Made pipeline and saved it in variable named pipe "
      ],
      "metadata": {
        "id": "WIZM0DxmJzDz"
      },
      "execution_count": 89,
      "outputs": []
    },
    {
      "cell_type": "code",
      "source": [
        "pipe.fit(x_train, y_train) # Trained the pipe"
      ],
      "metadata": {
        "colab": {
          "base_uri": "https://localhost:8080/"
        },
        "id": "llns3p5dJ1ZY",
        "outputId": "eb7ba2f0-d7b0-4396-c340-5c52f0e88608"
      },
      "execution_count": 90,
      "outputs": [
        {
          "output_type": "execute_result",
          "data": {
            "text/plain": [
              "Pipeline(steps=[('columntransformer',\n",
              "                 ColumnTransformer(remainder='passthrough',\n",
              "                                   transformers=[('onehotencoder',\n",
              "                                                  OneHotEncoder(categories=[array(['Achmad Adnawijaya', 'Arah Masuk Tol Bogor Lingkar Luar',\n",
              "       'Atang Sanjaya', 'Babakan Dramaga', 'Baranangsiang Indah',\n",
              "       'Batu Tulis', 'Binamarga', 'Bogor Baru Raya',\n",
              "       'Brigjen Saptadji Hadi Prawira', 'Bukit Cimanggu City Raya',\n",
              "       'Cifor', 'Ci...\n",
              "       'Pancasan Atas', 'Pandawa Raya', 'Pandu Raya', 'Pangeran Asogiri',\n",
              "       'Pasir Kuda', 'Pemuda', 'Pulo Empang', 'RE Abdullah',\n",
              "       'RH Soelaeman A Kartadjoemena', 'Semplak Raya', 'Siliwangi',\n",
              "       'Subur', 'Sumurwangi', 'Surya Kencana', 'TB M Falak',\n",
              "       'Taman Cimanggu Raya', 'Tentara Pelajar', 'Tol Bocimi',\n",
              "       'Tol Jagorawi', 'Tol Lingkar Luar Bogor', 'Tumenggung Wiradireja',\n",
              "       'Veteran'], dtype=object)]),\n",
              "                                                  ['street'])])),\n",
              "                ('linearregression', LinearRegression())])"
            ]
          },
          "metadata": {},
          "execution_count": 90
        }
      ]
    },
    {
      "cell_type": "code",
      "source": [
        "y_pred = pipe.predict(x_test)"
      ],
      "metadata": {
        "id": "5bBYZ7KjUblJ"
      },
      "execution_count": 91,
      "outputs": []
    },
    {
      "cell_type": "code",
      "source": [
        "r2_score(y_test, y_pred) # Calculated the score of prediction. "
      ],
      "metadata": {
        "colab": {
          "base_uri": "https://localhost:8080/"
        },
        "id": "IBoxIws0UgT9",
        "outputId": "e49c8bd4-581f-4083-943b-55dcf830ed72"
      },
      "execution_count": 92,
      "outputs": [
        {
          "output_type": "execute_result",
          "data": {
            "text/plain": [
              "0.04246454477737982"
            ]
          },
          "metadata": {},
          "execution_count": 92
        }
      ]
    },
    {
      "cell_type": "code",
      "source": [
        "scores=[] # Made list named as scores. \n",
        "\n",
        "for i in range(1000):\n",
        "\n",
        "    x_train, x_test, y_train, y_test = train_test_split ( x, y, test_size=0.1, random_state=i) # We have run the loop by using different random state. \n",
        "\n",
        "    lr=LinearRegression()\n",
        "\n",
        "    pipe=make_pipeline(column_trans,lr)\n",
        "\n",
        "    pipe.fit(x_train,y_train)\n",
        "\n",
        "    y_pred=pipe.predict(x_test)\n",
        "\n",
        "    scores.append(r2_score(y_test,y_pred))"
      ],
      "metadata": {
        "id": "NvtF3_g4UkRz"
      },
      "execution_count": 97,
      "outputs": []
    },
    {
      "cell_type": "code",
      "source": [
        "np.argmax(scores) # This finds the value where score was the highest"
      ],
      "metadata": {
        "colab": {
          "base_uri": "https://localhost:8080/"
        },
        "id": "N7wDvl-AUsHZ",
        "outputId": "b15c04fc-ca9e-4938-a86a-04d8ba4d5a63"
      },
      "execution_count": 98,
      "outputs": [
        {
          "output_type": "execute_result",
          "data": {
            "text/plain": [
              "411"
            ]
          },
          "metadata": {},
          "execution_count": 98
        }
      ]
    },
    {
      "cell_type": "code",
      "source": [
        "scores[np.argmax(scores)] "
      ],
      "metadata": {
        "colab": {
          "base_uri": "https://localhost:8080/"
        },
        "id": "1Db74TehUucV",
        "outputId": "1f1a28a1-5586-41a1-d180-fedb8796acf5"
      },
      "execution_count": 99,
      "outputs": [
        {
          "output_type": "execute_result",
          "data": {
            "text/plain": [
              "0.16018588996988248"
            ]
          },
          "metadata": {},
          "execution_count": 99
        }
      ]
    },
    {
      "cell_type": "code",
      "source": [
        "x_train,x_test,y_train,y_test=train_test_split(x,y,test_size=0.1,random_state=np.argmax(scores))\n",
        "\n",
        "lr=LinearRegression()\n",
        "\n",
        "pipe=make_pipeline(column_trans,lr)\n",
        "\n",
        "pipe.fit(x_train,y_train)\n",
        "\n",
        "y_pred=pipe.predict(x_test)\n",
        "\n",
        "r2_score(y_test,y_pred)"
      ],
      "metadata": {
        "colab": {
          "base_uri": "https://localhost:8080/"
        },
        "id": "v4PeHPrvUz57",
        "outputId": "6607879b-f592-40eb-ce26-7b58d844fd2b"
      },
      "execution_count": 100,
      "outputs": [
        {
          "output_type": "execute_result",
          "data": {
            "text/plain": [
              "0.16018588996988248"
            ]
          },
          "metadata": {},
          "execution_count": 100
        }
      ]
    },
    {
      "cell_type": "code",
      "source": [
        "df2['street'].value_counts().head(15)"
      ],
      "metadata": {
        "colab": {
          "base_uri": "https://localhost:8080/"
        },
        "id": "QsmROVT6VGq1",
        "outputId": "7e0dd1cd-280e-4af4-a756-b73d0487e62a"
      },
      "execution_count": 101,
      "outputs": [
        {
          "output_type": "execute_result",
          "data": {
            "text/plain": [
              "N9 Jalan Raya Dramaga           768\n",
              "N9 Jalan Raya Tajur             296\n",
              "Semplak Raya                    253\n",
              "Kapten Yusuf                    215\n",
              "N9 Raden KH Abdullah bin Nuh    210\n",
              "N9 Jalan Raya Pajajaran         194\n",
              "N8 Jalan Raya Bogor             180\n",
              "Surya Kencana                   125\n",
              "Pahlawan                        108\n",
              "Kapten Muslihat                 100\n",
              "TB M Falak                       95\n",
              "Letjen Ibrahim Adjie             90\n",
              "Mayjen Ishak Djuarsa             80\n",
              "N9 Jalan Raya Ciawi              78\n",
              "Tol Lingkar Luar Bogor           67\n",
              "Name: street, dtype: int64"
            ]
          },
          "metadata": {},
          "execution_count": 101
        }
      ]
    },
    {
      "cell_type": "code",
      "source": [
        "street = input(\"Input street name: \")\n",
        "\n",
        "PredictedStreet = pipe.predict(pd.DataFrame(columns=x_test.columns,data=np.array([street]).reshape(1,1)))\n",
        "\n",
        "print(\"Predicted street is \", round(PredictedStreet[0],2))"
      ],
      "metadata": {
        "colab": {
          "base_uri": "https://localhost:8080/"
        },
        "id": "6vbjnZwaVPSj",
        "outputId": "3302c9a5-a351-4145-fb27-4bdc32306b1c"
      },
      "execution_count": 109,
      "outputs": [
        {
          "output_type": "stream",
          "name": "stdout",
          "text": [
            "Input street name: N9 Jalan Raya Dramaga\n",
            "Predicted street is  3.54\n"
          ]
        }
      ]
    }
  ]
}